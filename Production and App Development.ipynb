{
 "cells": [
  {
   "cell_type": "code",
   "execution_count": 3,
   "metadata": {},
   "outputs": [],
   "source": [
    "import os\n",
    "import json\n",
    "import urllib.request\n",
    "import h5py\n",
    "import numpy as np\n",
    "import json\n",
    "import matplotlib.pyplot as plt\n",
    "import pickle\n",
    "\n",
    "from IPython.display import Image,display,clear_output"
   ]
  },
  {
   "cell_type": "code",
   "execution_count": 9,
   "metadata": {},
   "outputs": [],
   "source": [
    "import keras \n",
    "from keras.models import Sequential,load_model\n",
    "from keras.applications.vgg16 import VGG16\n",
    "from keras.applications.imagenet_utils import preprocess_input,decode_predictions   #?\n",
    "from keras.preprocessing.image import ImageDataGenerator,array_to_img,img_to_array,load_img\n",
    "from keras.utils.data_utils import get_file"
   ]
  },
  {
   "cell_type": "markdown",
   "metadata": {},
   "source": [
    "## Input"
   ]
  },
  {
   "cell_type": "code",
   "execution_count": 7,
   "metadata": {},
   "outputs": [],
   "source": [
    "first_gate = VGG16(weights='imagenet')"
   ]
  },
  {
   "cell_type": "code",
   "execution_count": null,
   "metadata": {},
   "outputs": [],
   "source": [
    "second_gate = load_model('data1a/ft_model.h5')\n",
    "location_model = load_model('data2a/ft_model.h5')\n",
    "severity_model = load_model('data3a/ft_model.h5')"
   ]
  },
  {
   "cell_type": "code",
   "execution_count": 5,
   "metadata": {},
   "outputs": [],
   "source": [
    "with open('vgg16_cat_list.pk','rb') as f:\n",
    "    cat_list = pickle.load(f)"
   ]
  },
  {
   "cell_type": "code",
   "execution_count": 6,
   "metadata": {
    "scrolled": true
   },
   "outputs": [
    {
     "data": {
      "text/plain": [
       "[('n03770679', 'minivan'),\n",
       " ('n04285008', 'sports_car'),\n",
       " ('n03100240', 'convertible'),\n",
       " ('n02814533', 'beach_wagon'),\n",
       " ('n03930630', 'pickup'),\n",
       " ('n04461696', 'tow_truck'),\n",
       " ('n03670208', 'limousine'),\n",
       " ('n04037443', 'racer'),\n",
       " ('n02974003', 'car_wheel'),\n",
       " ('n02930766', 'cab'),\n",
       " ('n03769881', 'minibus'),\n",
       " ('n03796401', 'moving_van'),\n",
       " ('n03594945', 'jeep'),\n",
       " ('n03459775', 'grille'),\n",
       " ('n03445924', 'golfcart'),\n",
       " ('n03791053', 'motor_scooter'),\n",
       " ('n04252225', 'snowplow'),\n",
       " ('n03977966', 'police_van'),\n",
       " ('n02965783', 'car_mirror'),\n",
       " ('n03417042', 'garbage_truck'),\n",
       " ('n02701002', 'ambulance'),\n",
       " ('n04252077', 'snowmobile'),\n",
       " ('n04467665', 'trailer_truck'),\n",
       " ('n03478589', 'half_track'),\n",
       " ('n03891332', 'parking_meter'),\n",
       " ('n03777568', 'Model_T'),\n",
       " ('n04065272', 'recreational_vehicle'),\n",
       " ('n03127747', 'crash_helmet'),\n",
       " ('n03649909', 'lawn_mower'),\n",
       " ('n02704792', 'amphibian'),\n",
       " ('n04517823', 'vacuum'),\n",
       " ('n02917067', 'bullet_train'),\n",
       " ('n04465501', 'tractor'),\n",
       " ('n03785016', 'moped'),\n",
       " ('n03776460', 'mobile_home'),\n",
       " ('n03496892', 'harvester'),\n",
       " ('n02860847', 'bobsled'),\n",
       " ('n03444034', 'go-kart'),\n",
       " ('n03345487', 'fire_engine'),\n",
       " ('n04442312', 'toaster'),\n",
       " ('n04487081', 'trolleybus'),\n",
       " ('n02747177', 'ashcan'),\n",
       " ('n03538406', 'horse_cart'),\n",
       " ('n04258138', 'solar_dish'),\n",
       " ('n04335435', 'streetcar'),\n",
       " ('n06874185', 'traffic_light'),\n",
       " ('n03384352', 'forklift'),\n",
       " ('n04606251', 'wreck')]"
      ]
     },
     "execution_count": 6,
     "metadata": {},
     "output_type": "execute_result"
    }
   ],
   "source": [
    "cat_list"
   ]
  },
  {
   "cell_type": "markdown",
   "metadata": {},
   "source": [
    "## First Gate Setup - Car or Not?"
   ]
  },
  {
   "cell_type": "code",
   "execution_count": 8,
   "metadata": {},
   "outputs": [],
   "source": [
    "# from Keras GitHub  \n",
    "CLASS_INDEX = None\n",
    "CLASS_INDEX_PATH = 'https://s3.amazonaws.com/deep-learning-models/image-models/imagenet_class_index.json'\n",
    "\n",
    "def get_predictions(preds, top=5):\n",
    "    global CLASS_INDEX\n",
    "    if len(preds.shape) != 2 or preds.shape[1] != 1000:\n",
    "        raise ValueError('`decode_predictions` expects '\n",
    "                         'a batch of predictions '\n",
    "                         '(i.e. a 2D array of shape (samples, 1000)). '\n",
    "                         'Found array with shape: ' + str(preds.shape))\n",
    "    if CLASS_INDEX is None:\n",
    "        fpath = get_file('imagenet_class_index.json',\n",
    "                         CLASS_INDEX_PATH,\n",
    "                         cache_subdir='models')\n",
    "        CLASS_INDEX = json.load(open(fpath))\n",
    "    results = []\n",
    "    for pred in preds:\n",
    "        top_indices = pred.argsort()[-top:][::-1]\n",
    "        result = [tuple(CLASS_INDEX[str(i)]) + (pred[i],) for i in top_indices]\n",
    "        result.sort(key=lambda x: x[2], reverse=True)\n",
    "        results.append(result)\n",
    "    return results"
   ]
  },
  {
   "cell_type": "code",
   "execution_count": 13,
   "metadata": {},
   "outputs": [],
   "source": [
    "def prepare_img_244(img_path):\n",
    "    #urllib.request.urlretrieve(img_url,'save.jpg')\n",
    "    img = load_img(img_path,target_size=(224,224))\n",
    "    x = img_to_array(img)\n",
    "    x = np.expand_dims(x,axis=0)\n",
    "    x = preprocess_input(x)\n",
    "    return x"
   ]
  },
  {
   "cell_type": "code",
   "execution_count": 20,
   "metadata": {},
   "outputs": [],
   "source": [
    "def car_categories_gate(img244,model):\n",
    "    print(\"Validating that this is a picture of your car...\")\n",
    "    out = model.predict(img244)\n",
    "    top = get_predictions(out,top=5)\n",
    "    for j in top[0]:\n",
    "        if j[0:2] in cat_list:\n",
    "            # print j[0:2]\n",
    "            return True # \"Validation complete - proceed to damage evaluation\"\n",
    "    return False # \"Are you sure this is a picture of your car? \n",
    "                 # Please take another picture (try a different angle or lighting) and try again.\""
   ]
  },
  {
   "cell_type": "markdown",
   "metadata": {},
   "source": [
    "## Second Gate Setup - Damaged or Whole?"
   ]
  },
  {
   "cell_type": "code",
   "execution_count": 33,
   "metadata": {},
   "outputs": [],
   "source": [
    "def prepare_img_256(img_path):\n",
    "    img = load_img(img_path,target_size=(256,256))\n",
    "    x = img_to_array(img)\n",
    "    x = x.reshape((1,)+x.shape)/255  \n",
    "    return x"
   ]
  },
  {
   "cell_type": "code",
   "execution_count": 21,
   "metadata": {},
   "outputs": [],
   "source": [
    "def car_damage_gate(img_256,model):\n",
    "    print(\"Validating that damage exists...\")\n",
    "    pred = model.predict(img_256)\n",
    "    if pred[0][0] <=.5:\n",
    "        return True # print \"Validation complete - proceed to location and severity determination\"\n",
    "    else:\n",
    "        return False\n",
    "        # print \"Are you sure that your car is damaged? Please submit another picture of the damage.\"\n",
    "        # print \"Hint: Try zooming in/out, using a different angle or different lighting\""
   ]
  },
  {
   "cell_type": "markdown",
   "metadata": {},
   "source": [
    "## Location and Severity Assessment"
   ]
  },
  {
   "cell_type": "code",
   "execution_count": 23,
   "metadata": {},
   "outputs": [],
   "source": [
    "def location_assessment(img_256,model):\n",
    "    print(\"Determining location of damage...\")\n",
    "    pred = model.predict(img_256)\n",
    "    pred_label = np.argmax(pred,axis=1)\n",
    "    d = {0: 'Front', 1: 'Rear', 2: 'Side'}\n",
    "    for key in d.iterkeys():\n",
    "        if pred_label[0] == key:\n",
    "            print(\"Assessment: {} damage to vehicle\".format(d[key]))\n",
    "    print(\"Location assessment complete.\")"
   ]
  },
  {
   "cell_type": "code",
   "execution_count": 27,
   "metadata": {},
   "outputs": [],
   "source": [
    "def severity_assessment(img_256, model):\n",
    "    print(\"Determining severity of damage...\")\n",
    "    pred = model.predict(img_256)\n",
    "    pred_label = np.argmax(pred, axis=1)\n",
    "    d = {0: 'Minor', 1: 'Moderate', 2: 'Severe'}\n",
    "    for key in d.iterkeys():\n",
    "        if pred_label[0] == key:\n",
    "            print(\"Assessment: {} damage to vehicle\".format(d[key]))\n",
    "    print(\"Severity assessment complete.\")"
   ]
  },
  {
   "cell_type": "code",
   "execution_count": 31,
   "metadata": {},
   "outputs": [],
   "source": [
    "# load models\n",
    "def engine():\n",
    "    while True:\n",
    "        try:\n",
    "            print('Enter img url here(or type q or Q to quit)')\n",
    "            img_url = input('Upload image file or enter image-url')\n",
    "            if img_url in ['q','Q']:\n",
    "                return None\n",
    "            \n",
    "            img_path,_ = urllib.request.urlretrieve(img_url,'save.jpg')\n",
    "            img_244 = prepare_img_244(img_path)\n",
    "            \n",
    "            g1 = car_categories_gate(img_244,first_gate)\n",
    "            display(Image('save.jpg', width=300))\n",
    "            if g1 is False:\n",
    "                print(\"Are you sure this is a picture of your car? Please submit another picture of the damage.\")\n",
    "                print(\"Hint: Try zooming in/out, using a different angle or different lighting.\")\n",
    "                break\n",
    "            \n",
    "            img_256 = prepare_img_256(img_path)\n",
    "            g2 = car_damage_gate(img_256,second_gate)\n",
    "            if g2 is False:\n",
    "                print(\"Are you sure that your car is damaged? Please submit another picture of the damage.\")\n",
    "                print(\"Hint: Try zooming in/out, using a different angle or different lighting.\")\n",
    "                break\n",
    "            \n",
    "            x = location_assessment(img_256,location_model)\n",
    "            y = severity_assessment(img_256,severity_model)\n",
    "        except:\n",
    "            print(\"Image not accessible. Please try again.\")\n",
    "            break"
   ]
  },
  {
   "cell_type": "code",
   "execution_count": null,
   "metadata": {},
   "outputs": [],
   "source": []
  }
 ],
 "metadata": {
  "kernelspec": {
   "display_name": "Python 3",
   "language": "python",
   "name": "python3"
  },
  "language_info": {
   "codemirror_mode": {
    "name": "ipython",
    "version": 3
   },
   "file_extension": ".py",
   "mimetype": "text/x-python",
   "name": "python",
   "nbconvert_exporter": "python",
   "pygments_lexer": "ipython3",
   "version": "3.6.2"
  }
 },
 "nbformat": 4,
 "nbformat_minor": 2
}
